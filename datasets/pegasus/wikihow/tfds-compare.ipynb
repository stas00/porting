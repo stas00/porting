{
 "cells": [
  {
   "cell_type": "markdown",
   "metadata": {},
   "source": [
    "# match the 2 data sources\n",
    "\n",
    "This notebook takes tfds `wikihow` dataset and matches it with our manually made pre-processed data for rouge eval."
   ]
  },
  {
   "cell_type": "code",
   "execution_count": 1,
   "metadata": {},
   "outputs": [],
   "source": [
    "from pegasus.data import all_datasets\n",
    "from pathlib import Path"
   ]
  },
  {
   "cell_type": "code",
   "execution_count": 2,
   "metadata": {},
   "outputs": [],
   "source": []
  },
  {
   "cell_type": "code",
   "execution_count": 3,
   "metadata": {},
   "outputs": [],
   "source": [
    "input_pattern = \"tfds:wikihow/all\"\n",
    "split = \"test\"\n",
    "#for split in [\"train\", \"validation\", \"test\"]:\n",
    "    \n",
    "data = all_datasets.get_dataset(input_pattern + \"-\" + split, shuffle_files=False)"
   ]
  },
  {
   "cell_type": "code",
   "execution_count": 28,
   "metadata": {},
   "outputs": [],
   "source": [
    "# compare the results of our preprocessing with tfds\n",
    "dir = Path(\"./data\")\n",
    "dir_src = dir / \"test.source\"\n",
    "dir_tgt = dir / \"test.target\"\n",
    "src = []\n",
    "tgt = []\n",
    "# with open(dir_src, 'rt') as f: src = f.read().splitlines() \n",
    "# with open(dir_tgt, 'rt') as f: tgt = f.read().splitlines()\n",
    "with open(dir_src, 'rt') as f: src = [l.rstrip() for l in f]\n",
    "with open(dir_tgt, 'rt') as f: tgt = [l.rstrip() for l in f]\n",
    "assert len(src) == len(tgt), f\"must have the same number of records, but got src={len(src)}, tgt={len(tgt)}\"\n"
   ]
  },
  {
   "cell_type": "code",
   "execution_count": 29,
   "metadata": {},
   "outputs": [],
   "source": [
    "import difflib\n",
    "def str_compare(a, b):\n",
    "    \"\"\" \n",
    "    If strings are mismatched, print the diff with context\n",
    "    Returns true if strings match, false otherwise\n",
    "    adapted from https://stackoverflow.com/a/17904977/9201239\n",
    "    \"\"\"\n",
    "    \n",
    "    match = True\n",
    "    if len(a) != len(b):\n",
    "        print(f\"length mismatch: a={len(a)}, b={len(b)}\")\n",
    "        \n",
    "    def context(s, i):\n",
    "        start = i-10\n",
    "        end   = i+10\n",
    "        if start < 0: start = 0\n",
    "        if end > len(s)-1: end = len(s)-1\n",
    "        return s[start:end]\n",
    "        \n",
    "    for i, s in enumerate(difflib.ndiff(a, b)):\n",
    "        if s[0] == ' ': \n",
    "            continue          \n",
    "        elif s[0] == '-':\n",
    "            match = False\n",
    "            print(f'Delete \"{s[-1]}\" from position {i}, ctx=[{context(a, i)}]')\n",
    "        elif s[0] == '+':\n",
    "            match = False\n",
    "            print(f'Add \"{s[-1]}\" to position {i}, ctx=[{context(a, i)}')\n",
    "            \n",
    "    return match"
   ]
  },
  {
   "cell_type": "code",
   "execution_count": 48,
   "metadata": {},
   "outputs": [],
   "source": [
    "# corresponding ids in our dataset\n",
    "#idmap = [4909-1, 3164-1, 2920-1, 4541-1, 1781-1]\n",
    "\n",
    "# -1 is due to the silly mismatch between unix tools and python - as I had to use grep to find the right record\n",
    "idmap = [1045-1, 3090-1, 2634-1, 4169-1]\n",
    "\n",
    "# odd cases:\n",
    "# id 2920-1 corresponding to\n",
    "# test_articles/HowtoInstallKasperskyAntivirusonaSmartphone.txt\n",
    "# is inconsistent newline wise in the tfds (some extra new lines that shouldn't be there)\n",
    "# it looks that it happens if there is no period in the summary line - it injects 2 new lines there.\n",
    "#\n",
    "# id 4541-1 \n",
    "# test_articles/HowtoRefuseAnnoyingSalespeople3.txt\n",
    "# they capitalize quoted text: Tell them “No calls, emails only.”\n",
    "# whereas ours is:             Tell them “no calls, emails only.”"
   ]
  },
  {
   "cell_type": "code",
   "execution_count": 49,
   "metadata": {},
   "outputs": [
    {
     "name": "stdout",
     "output_type": "stream",
     "text": [
      "✓ 1044\n",
      "✓ 3089\n",
      "✓ 2633\n",
      "✓ 4168\n"
     ]
    }
   ],
   "source": [
    "def preview(s):\n",
    "    slen = len(s)\n",
    "    end = 200 if 200 < len(s)-1 else len(s)\n",
    "    return s[:end]\n",
    "\n",
    "data_iter = iter(data)\n",
    "for id in idmap:\n",
    "    d = next(data_iter)\n",
    "    id_ok = True\n",
    "    tf_src = d['inputs'].numpy().decode()\n",
    "    hf_src = src[id].replace(\"<n>\", \"\\n\")\n",
    "    if not str_compare(tf_src, hf_src):\n",
    "        id_ok = False\n",
    "        print(f\"\\nmismatching src texts\\ntf=[{preview(tf_src)}]\\nhf=[{preview(hf_src)}]\")\n",
    "    \n",
    "    tf_tgt = d['targets'].numpy().decode()\n",
    "    hf_tgt = tgt[id].replace(\"<n>\", \"\\n\")\n",
    "    if not str_compare(tf_tgt, hf_tgt):\n",
    "        id_ok = False\n",
    "        \n",
    "        print(f\"\\nmismatching tgt texts\\ntf=[{preview(tf_tgt)}]\\nhf=[{preview(hf_tgt)}]\")\n",
    "\n",
    "    if id_ok:\n",
    "        print(f\"✓ {id}\")"
   ]
  },
  {
   "cell_type": "code",
   "execution_count": null,
   "metadata": {},
   "outputs": [],
   "source": []
  },
  {
   "cell_type": "code",
   "execution_count": null,
   "metadata": {},
   "outputs": [],
   "source": []
  },
  {
   "cell_type": "code",
   "execution_count": null,
   "metadata": {},
   "outputs": [],
   "source": []
  }
 ],
 "metadata": {
  "hide_input": false,
  "kernelspec": {
   "display_name": "Python 3",
   "language": "python",
   "name": "python3"
  },
  "language_info": {
   "codemirror_mode": {
    "name": "ipython",
    "version": 3
   },
   "file_extension": ".py",
   "mimetype": "text/x-python",
   "name": "python",
   "nbconvert_exporter": "python",
   "pygments_lexer": "ipython3",
   "version": "3.8.5"
  },
  "toc": {
   "base_numbering": 1,
   "nav_menu": {},
   "number_sections": true,
   "sideBar": true,
   "skip_h1_title": false,
   "title_cell": "Table of Contents",
   "title_sidebar": "Contents",
   "toc_cell": false,
   "toc_position": {},
   "toc_section_display": true,
   "toc_window_display": true
  }
 },
 "nbformat": 4,
 "nbformat_minor": 4
}
