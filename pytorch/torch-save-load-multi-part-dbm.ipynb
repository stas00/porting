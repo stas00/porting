{
 "cells": [
  {
   "cell_type": "markdown",
   "id": "ad17b348",
   "metadata": {},
   "source": [
    "# Multi-part torch params save/loading\n",
    "\n",
    "This proposal suggests to replace the currently used approach to saving/loading model param by requiring all of the data to be present in CPU memory, to instead loading or saving just one param at a time, allowing much smaller memory usage when CPU memory is tight.\n",
    "\n",
    "I'm proposing to use DBM which is a python built-in module and requires no extra handling. But this can be any other simple db interface that is built in.\n",
    "\n",
    "This is a rough prototype and doesn't pretend to be complete.\n",
    "\n",
    "Alternative solutions: \n",
    "- [multi-file checkpoint splitting](https://github.com/finetuneanon/transformers/#checkpoint-splitting)\n",
    "\n",
    "credits: The main class has been inspired by [SplitCheckpoint](https://github.com/finetuneanon/transformers/blob/ca5d90ac1965982db122a649c2c9c902bde74a03/src/transformers/modeling_utils.py#L417-L443)\n",
    "\n",
    "Here is the corresponding [Pytorch RFC](https://github.com/pytorch/pytorch/issues/64327)."
   ]
  },
  {
   "cell_type": "code",
   "execution_count": 7,
   "id": "22031362",
   "metadata": {},
   "outputs": [],
   "source": [
    "import dbm\n",
    "import pickle\n",
    "import torch\n",
    "from torch import nn\n",
    "from collections.abc import MutableMapping"
   ]
  },
  {
   "cell_type": "code",
   "execution_count": 2,
   "id": "e368e5d5",
   "metadata": {},
   "outputs": [],
   "source": [
    "class DBMStateDict(MutableMapping):\n",
    "    def __init__(self, path):\n",
    "        self.path = path\n",
    "        self.db = dbm.open(path, 'c')\n",
    "        \n",
    "    def __len__(self):\n",
    "        return len(self.db.keys())\n",
    "    \n",
    "    def __getitem__(self, key):\n",
    "        return pickle.loads(self.db[key])\n",
    "    \n",
    "    def __setitem__(self, key, value):\n",
    "        self.db[key] = pickle.dumps(value)\n",
    "        # it looks like dbm syncs immediately\n",
    "    \n",
    "    def __delitem__(self, key):\n",
    "        return self.db.pop(key)\n",
    "    \n",
    "    def keys(self):\n",
    "        return [k.decode() for k in self.db.keys()]\n",
    "    \n",
    "    def __iter__(self):    \n",
    "        return iter(self.db)\n",
    "            \n",
    "    def copy(self):\n",
    "        return DBMStateDict(self.path)\n",
    "    \n",
    "    def __del__(self):\n",
    "        self.db.close()\n",
    "                            "
   ]
  },
  {
   "cell_type": "code",
   "execution_count": 3,
   "id": "99cba098",
   "metadata": {},
   "outputs": [],
   "source": [
    "def save_new(sd_dict, path):\n",
    "    sd = DBMStateDict(path)\n",
    "    for k,v in sd_dict.items():\n",
    "        sd[k] = v\n",
    "\n",
    "def load_new(path):\n",
    "    # this doesn't load the whole sd into memory!\n",
    "    return DBMStateDict(path)"
   ]
  },
  {
   "cell_type": "code",
   "execution_count": null,
   "id": "f76c949d",
   "metadata": {},
   "outputs": [],
   "source": [
    "class SubNet(nn.Module):\n",
    "    def __init__(self):\n",
    "        super().__init__()\n",
    "        self.fc1 = nn.Linear(1, 1)\n",
    "        self.fc2 = nn.Linear(1, 1)\n",
    "\n",
    "class Net(nn.Module):\n",
    "    def __init__(self):\n",
    "        super().__init__()\n",
    "        self.net = SubNet()"
   ]
  },
  {
   "cell_type": "code",
   "execution_count": 4,
   "id": "d2301730",
   "metadata": {},
   "outputs": [
    {
     "data": {
      "text/plain": [
       "Net(\n",
       "  (net): SubNet(\n",
       "    (fc1): Linear(in_features=1, out_features=1, bias=True)\n",
       "    (fc2): Linear(in_features=1, out_features=1, bias=True)\n",
       "  )\n",
       ")"
      ]
     },
     "execution_count": 4,
     "metadata": {},
     "output_type": "execute_result"
    }
   ],
   "source": [
    "m = Net()\n",
    "m"
   ]
  },
  {
   "cell_type": "code",
   "execution_count": 5,
   "id": "f9d7216a",
   "metadata": {},
   "outputs": [
    {
     "data": {
      "text/plain": [
       "<All keys matched successfully>"
      ]
     },
     "execution_count": 5,
     "metadata": {},
     "output_type": "execute_result"
    }
   ],
   "source": [
    "# original\n",
    "m = Net()\n",
    "path = \"model1.pt\"\n",
    "sd_dict = m.state_dict()\n",
    "torch.save(sd_dict, path)\n",
    "sd_dict = torch.load(path)\n",
    "m.load_state_dict(sd_dict)"
   ]
  },
  {
   "cell_type": "code",
   "execution_count": 6,
   "id": "caf58cd4",
   "metadata": {},
   "outputs": [
    {
     "data": {
      "text/plain": [
       "<All keys matched successfully>"
      ]
     },
     "execution_count": 6,
     "metadata": {},
     "output_type": "execute_result"
    }
   ],
   "source": [
    "# same but loading / saving one key at a time   \n",
    "m = Net()\n",
    "path = \"model1.dbm\"\n",
    "sd_dict = m.state_dict()\n",
    "save_new(sd_dict, path)\n",
    "sd_new = load_new(path)\n",
    "m.load_state_dict(sd_new)"
   ]
  }
 ],
 "metadata": {
  "hide_input": false,
  "kernelspec": {
   "display_name": "Python 3",
   "language": "python",
   "name": "python3"
  },
  "language_info": {
   "codemirror_mode": {
    "name": "ipython",
    "version": 3
   },
   "file_extension": ".py",
   "mimetype": "text/x-python",
   "name": "python",
   "nbconvert_exporter": "python",
   "pygments_lexer": "ipython3",
   "version": "3.8.10"
  },
  "toc": {
   "base_numbering": 1,
   "nav_menu": {},
   "number_sections": true,
   "sideBar": true,
   "skip_h1_title": false,
   "title_cell": "Table of Contents",
   "title_sidebar": "Contents",
   "toc_cell": false,
   "toc_position": {},
   "toc_section_display": true,
   "toc_window_display": true
  }
 },
 "nbformat": 4,
 "nbformat_minor": 5
}
