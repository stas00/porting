{
 "cells": [
  {
   "cell_type": "markdown",
   "metadata": {},
   "source": [
    "# Cheating"
   ]
  },
  {
   "cell_type": "markdown",
   "metadata": {},
   "source": [
    "It's important to know how to cheat. So the first step is to create a system that works exactly like `transformers` API, except it doesn't use `transformers`. We simply write a proxy as follows:"
   ]
  },
  {
   "cell_type": "code",
   "execution_count": 1,
   "metadata": {},
   "outputs": [],
   "source": [
    "import torch\n",
    "\n",
    "class FairseqProxy():\n",
    "    def __init__(self, module):\n",
    "        self.module = module\n",
    "        \n",
    "    @classmethod\n",
    "    def from_pretrained(cls, mname): \n",
    "        return cls(module=torch.hub.load('pytorch/fairseq', mname, checkpoint_file='model1.pt:model2.pt:model3.pt:model4.pt', tokenizer='moses', bpe='fastbpe'))\n",
    "\n",
    "class FSMTForConditionalGeneration(FairseqProxy):\n",
    "    \n",
    "    def generate(self, **tokenized_sentences):\n",
    "        return self.module.generate(tokenized_sentences['data'])\n",
    "    \n",
    "class FSMTTokenizer(FairseqProxy):\n",
    "\n",
    "    def prepare_seq2seq_batch(self, sentences): # encode\n",
    "        return {'data': [self.module.encode(sentence) for sentence in sentences]}\n",
    "    \n",
    "    def batch_decode(self, batched_hypos):\n",
    "        return [self.module.decode(hypos[0]['tokens']) for hypos in batched_hypos]"
   ]
  },
  {
   "cell_type": "code",
   "execution_count": 4,
   "metadata": {},
   "outputs": [
    {
     "name": "stderr",
     "output_type": "stream",
     "text": [
      "Using cache found in /home/stas/.cache/torch/hub/pytorch_fairseq_master\n",
      "Using cache found in /home/stas/.cache/torch/hub/pytorch_fairseq_master\n"
     ]
    }
   ],
   "source": [
    "mname = 'transformer.wmt19.ru-en'\n",
    "tokenizer = FSMTTokenizer.from_pretrained(mname)\n",
    "model = FSMTForConditionalGeneration.from_pretrained(mname)"
   ]
  },
  {
   "cell_type": "code",
   "execution_count": null,
   "metadata": {},
   "outputs": [],
   "source": [
    "batch = tokenizer.prepare_seq2seq_batch([\"Машинное обучение - это здорово!\"])\n",
    "output = model.generate(**batch)\n",
    "decoded = tokenizer.batch_decode(output)[0]\n",
    "print(decoded)\n",
    "assert decoded == 'Machine learning is great!'"
   ]
  },
  {
   "cell_type": "markdown",
   "metadata": {},
   "source": [
    "Success!!!"
   ]
  },
  {
   "cell_type": "markdown",
   "metadata": {},
   "source": [
    "Practically, unless you want to use some special features from `transformers` this works just fine."
   ]
  },
  {
   "cell_type": "code",
   "execution_count": null,
   "metadata": {},
   "outputs": [],
   "source": []
  }
 ],
 "metadata": {
  "hide_input": false,
  "kernelspec": {
   "display_name": "Python 3",
   "language": "python",
   "name": "python3"
  },
  "language_info": {
   "codemirror_mode": {
    "name": "ipython",
    "version": 3
   },
   "file_extension": ".py",
   "mimetype": "text/x-python",
   "name": "python",
   "nbconvert_exporter": "python",
   "pygments_lexer": "ipython3",
   "version": "3.8.3"
  },
  "toc": {
   "base_numbering": 1,
   "nav_menu": {},
   "number_sections": true,
   "sideBar": true,
   "skip_h1_title": false,
   "title_cell": "Table of Contents",
   "title_sidebar": "Contents",
   "toc_cell": false,
   "toc_position": {},
   "toc_section_display": true,
   "toc_window_display": true
  }
 },
 "nbformat": 4,
 "nbformat_minor": 4
}
