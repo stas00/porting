{
 "cells": [
  {
   "cell_type": "markdown",
   "metadata": {},
   "source": [
    "# Visualize Fairseq Transformer"
   ]
  },
  {
   "cell_type": "code",
   "execution_count": 1,
   "metadata": {},
   "outputs": [],
   "source": [
    "%load_ext autoreload\n",
    "%autoreload 2"
   ]
  },
  {
   "cell_type": "code",
   "execution_count": 2,
   "metadata": {},
   "outputs": [],
   "source": [
    "import os, sys\n",
    "sys.path.insert(0, f\"{os.getcwd()}/src\")"
   ]
  },
  {
   "cell_type": "code",
   "execution_count": null,
   "metadata": {},
   "outputs": [],
   "source": []
  },
  {
   "cell_type": "code",
   "execution_count": 3,
   "metadata": {},
   "outputs": [],
   "source": [
    "import torch\n",
    "from pprint import pprint"
   ]
  },
  {
   "cell_type": "code",
   "execution_count": 4,
   "metadata": {},
   "outputs": [
    {
     "name": "stderr",
     "output_type": "stream",
     "text": [
      "Using cache found in /home/stas/.cache/torch/hub/pytorch_fairseq_master\n"
     ]
    }
   ],
   "source": [
    "#checkpoint_file = 'model1.pt:model2.pt:model3.pt:model4.pt'\n",
    "checkpoint_file = 'model1.pt'\n",
    "de2en = torch.hub.load('pytorch/fairseq', 'transformer.wmt19.de-en', checkpoint_file=checkpoint_file, tokenizer='moses', bpe='fastbpe')"
   ]
  },
  {
   "cell_type": "code",
   "execution_count": 5,
   "metadata": {},
   "outputs": [],
   "source": [
    "sentence = 'Maschinelles Lernen ist großartig!'"
   ]
  },
  {
   "cell_type": "code",
   "execution_count": 6,
   "metadata": {},
   "outputs": [
    {
     "data": {
      "text/plain": [
       "'Machine learning is great!'"
      ]
     },
     "execution_count": 6,
     "metadata": {},
     "output_type": "execute_result"
    }
   ],
   "source": [
    "de2en.translate(sentence)"
   ]
  },
  {
   "cell_type": "code",
   "execution_count": null,
   "metadata": {},
   "outputs": [],
   "source": []
  },
  {
   "cell_type": "markdown",
   "metadata": {},
   "source": [
    "# Visualize downloaded model weights"
   ]
  },
  {
   "cell_type": "code",
   "execution_count": 7,
   "metadata": {},
   "outputs": [],
   "source": [
    "path = \"/code/huggingface/transformers-fair-wmt\"\n",
    "#mname = 'transformer.wmt19.ru-en'\n",
    "chkpt1_path = path + \"/data/wmt19.ru-en.ensemble/model1.pt\"\n",
    "\n",
    "chkpt = torch.load(chkpt1_path, map_location=\"cpu\")\n",
    "model = chkpt[\"model\"]"
   ]
  },
  {
   "cell_type": "code",
   "execution_count": 8,
   "metadata": {},
   "outputs": [
    {
     "name": "stdout",
     "output_type": "stream",
     "text": [
      "['           1 encoder.version',\n",
      " '  31232 1024 encoder.embed_tokens.weight',\n",
      " '           1 encoder.embed_positions._float_tensor',\n",
      " '   3072 1024 encoder.layers.0.self_attn.in_proj_weight',\n",
      " '        3072 encoder.layers.0.self_attn.in_proj_bias',\n",
      " '   1024 1024 encoder.layers.0.self_attn.out_proj.weight',\n",
      " '        1024 encoder.layers.0.self_attn.out_proj.bias',\n",
      " '   8192 1024 encoder.layers.0.fc1.weight',\n",
      " '        8192 encoder.layers.0.fc1.bias',\n",
      " '   1024 8192 encoder.layers.0.fc2.weight',\n",
      " '        1024 encoder.layers.0.fc2.bias',\n",
      " '        1024 encoder.layers.0.layer_norms.0.weight',\n",
      " '        1024 encoder.layers.0.layer_norms.0.bias',\n",
      " '        1024 encoder.layers.0.layer_norms.1.weight',\n",
      " '        1024 encoder.layers.0.layer_norms.1.bias',\n",
      " '   3072 1024 encoder.layers.1.self_attn.in_proj_weight',\n",
      " '        3072 encoder.layers.1.self_attn.in_proj_bias',\n",
      " '   1024 1024 encoder.layers.1.self_attn.out_proj.weight',\n",
      " '        1024 encoder.layers.1.self_attn.out_proj.bias',\n",
      " '   8192 1024 encoder.layers.1.fc1.weight',\n",
      " '        8192 encoder.layers.1.fc1.bias',\n",
      " '   1024 8192 encoder.layers.1.fc2.weight',\n",
      " '        1024 encoder.layers.1.fc2.bias',\n",
      " '        1024 encoder.layers.1.layer_norms.0.weight',\n",
      " '        1024 encoder.layers.1.layer_norms.0.bias',\n",
      " '        1024 encoder.layers.1.layer_norms.1.weight',\n",
      " '        1024 encoder.layers.1.layer_norms.1.bias',\n",
      " '   3072 1024 encoder.layers.2.self_attn.in_proj_weight',\n",
      " '        3072 encoder.layers.2.self_attn.in_proj_bias',\n",
      " '   1024 1024 encoder.layers.2.self_attn.out_proj.weight',\n",
      " '        1024 encoder.layers.2.self_attn.out_proj.bias',\n",
      " '   8192 1024 encoder.layers.2.fc1.weight',\n",
      " '        8192 encoder.layers.2.fc1.bias',\n",
      " '   1024 8192 encoder.layers.2.fc2.weight',\n",
      " '        1024 encoder.layers.2.fc2.bias',\n",
      " '        1024 encoder.layers.2.layer_norms.0.weight',\n",
      " '        1024 encoder.layers.2.layer_norms.0.bias',\n",
      " '        1024 encoder.layers.2.layer_norms.1.weight',\n",
      " '        1024 encoder.layers.2.layer_norms.1.bias',\n",
      " '   3072 1024 encoder.layers.3.self_attn.in_proj_weight',\n",
      " '        3072 encoder.layers.3.self_attn.in_proj_bias',\n",
      " '   1024 1024 encoder.layers.3.self_attn.out_proj.weight',\n",
      " '        1024 encoder.layers.3.self_attn.out_proj.bias',\n",
      " '   8192 1024 encoder.layers.3.fc1.weight',\n",
      " '        8192 encoder.layers.3.fc1.bias',\n",
      " '   1024 8192 encoder.layers.3.fc2.weight',\n",
      " '        1024 encoder.layers.3.fc2.bias',\n",
      " '        1024 encoder.layers.3.layer_norms.0.weight',\n",
      " '        1024 encoder.layers.3.layer_norms.0.bias',\n",
      " '        1024 encoder.layers.3.layer_norms.1.weight',\n",
      " '        1024 encoder.layers.3.layer_norms.1.bias',\n",
      " '   3072 1024 encoder.layers.4.self_attn.in_proj_weight',\n",
      " '        3072 encoder.layers.4.self_attn.in_proj_bias',\n",
      " '   1024 1024 encoder.layers.4.self_attn.out_proj.weight',\n",
      " '        1024 encoder.layers.4.self_attn.out_proj.bias',\n",
      " '   8192 1024 encoder.layers.4.fc1.weight',\n",
      " '        8192 encoder.layers.4.fc1.bias',\n",
      " '   1024 8192 encoder.layers.4.fc2.weight',\n",
      " '        1024 encoder.layers.4.fc2.bias',\n",
      " '        1024 encoder.layers.4.layer_norms.0.weight',\n",
      " '        1024 encoder.layers.4.layer_norms.0.bias',\n",
      " '        1024 encoder.layers.4.layer_norms.1.weight',\n",
      " '        1024 encoder.layers.4.layer_norms.1.bias',\n",
      " '   3072 1024 encoder.layers.5.self_attn.in_proj_weight',\n",
      " '        3072 encoder.layers.5.self_attn.in_proj_bias',\n",
      " '   1024 1024 encoder.layers.5.self_attn.out_proj.weight',\n",
      " '        1024 encoder.layers.5.self_attn.out_proj.bias',\n",
      " '   8192 1024 encoder.layers.5.fc1.weight',\n",
      " '        8192 encoder.layers.5.fc1.bias',\n",
      " '   1024 8192 encoder.layers.5.fc2.weight',\n",
      " '        1024 encoder.layers.5.fc2.bias',\n",
      " '        1024 encoder.layers.5.layer_norms.0.weight',\n",
      " '        1024 encoder.layers.5.layer_norms.0.bias',\n",
      " '        1024 encoder.layers.5.layer_norms.1.weight',\n",
      " '        1024 encoder.layers.5.layer_norms.1.bias',\n",
      " '           1 decoder.version',\n",
      " '  31640 1024 decoder.embed_tokens.weight',\n",
      " '           1 decoder.embed_positions._float_tensor',\n",
      " '   3072 1024 decoder.layers.0.self_attn.in_proj_weight',\n",
      " '        3072 decoder.layers.0.self_attn.in_proj_bias',\n",
      " '   1024 1024 decoder.layers.0.self_attn.out_proj.weight',\n",
      " '        1024 decoder.layers.0.self_attn.out_proj.bias',\n",
      " '        1024 decoder.layers.0.self_attn_layer_norm.weight',\n",
      " '        1024 decoder.layers.0.self_attn_layer_norm.bias',\n",
      " '   3072 1024 decoder.layers.0.encoder_attn.in_proj_weight',\n",
      " '        3072 decoder.layers.0.encoder_attn.in_proj_bias',\n",
      " '   1024 1024 decoder.layers.0.encoder_attn.out_proj.weight',\n",
      " '        1024 decoder.layers.0.encoder_attn.out_proj.bias',\n",
      " '        1024 decoder.layers.0.encoder_attn_layer_norm.weight',\n",
      " '        1024 decoder.layers.0.encoder_attn_layer_norm.bias',\n",
      " '   4096 1024 decoder.layers.0.fc1.weight',\n",
      " '        4096 decoder.layers.0.fc1.bias',\n",
      " '   1024 4096 decoder.layers.0.fc2.weight',\n",
      " '        1024 decoder.layers.0.fc2.bias',\n",
      " '        1024 decoder.layers.0.final_layer_norm.weight',\n",
      " '        1024 decoder.layers.0.final_layer_norm.bias',\n",
      " '   3072 1024 decoder.layers.1.self_attn.in_proj_weight',\n",
      " '        3072 decoder.layers.1.self_attn.in_proj_bias',\n",
      " '   1024 1024 decoder.layers.1.self_attn.out_proj.weight',\n",
      " '        1024 decoder.layers.1.self_attn.out_proj.bias',\n",
      " '        1024 decoder.layers.1.self_attn_layer_norm.weight',\n",
      " '        1024 decoder.layers.1.self_attn_layer_norm.bias',\n",
      " '   3072 1024 decoder.layers.1.encoder_attn.in_proj_weight',\n",
      " '        3072 decoder.layers.1.encoder_attn.in_proj_bias',\n",
      " '   1024 1024 decoder.layers.1.encoder_attn.out_proj.weight',\n",
      " '        1024 decoder.layers.1.encoder_attn.out_proj.bias',\n",
      " '        1024 decoder.layers.1.encoder_attn_layer_norm.weight',\n",
      " '        1024 decoder.layers.1.encoder_attn_layer_norm.bias',\n",
      " '   4096 1024 decoder.layers.1.fc1.weight',\n",
      " '        4096 decoder.layers.1.fc1.bias',\n",
      " '   1024 4096 decoder.layers.1.fc2.weight',\n",
      " '        1024 decoder.layers.1.fc2.bias',\n",
      " '        1024 decoder.layers.1.final_layer_norm.weight',\n",
      " '        1024 decoder.layers.1.final_layer_norm.bias',\n",
      " '   3072 1024 decoder.layers.2.self_attn.in_proj_weight',\n",
      " '        3072 decoder.layers.2.self_attn.in_proj_bias',\n",
      " '   1024 1024 decoder.layers.2.self_attn.out_proj.weight',\n",
      " '        1024 decoder.layers.2.self_attn.out_proj.bias',\n",
      " '        1024 decoder.layers.2.self_attn_layer_norm.weight',\n",
      " '        1024 decoder.layers.2.self_attn_layer_norm.bias',\n",
      " '   3072 1024 decoder.layers.2.encoder_attn.in_proj_weight',\n",
      " '        3072 decoder.layers.2.encoder_attn.in_proj_bias',\n",
      " '   1024 1024 decoder.layers.2.encoder_attn.out_proj.weight',\n",
      " '        1024 decoder.layers.2.encoder_attn.out_proj.bias',\n",
      " '        1024 decoder.layers.2.encoder_attn_layer_norm.weight',\n",
      " '        1024 decoder.layers.2.encoder_attn_layer_norm.bias',\n",
      " '   4096 1024 decoder.layers.2.fc1.weight',\n",
      " '        4096 decoder.layers.2.fc1.bias',\n",
      " '   1024 4096 decoder.layers.2.fc2.weight',\n",
      " '        1024 decoder.layers.2.fc2.bias',\n",
      " '        1024 decoder.layers.2.final_layer_norm.weight',\n",
      " '        1024 decoder.layers.2.final_layer_norm.bias',\n",
      " '   3072 1024 decoder.layers.3.self_attn.in_proj_weight',\n",
      " '        3072 decoder.layers.3.self_attn.in_proj_bias',\n",
      " '   1024 1024 decoder.layers.3.self_attn.out_proj.weight',\n",
      " '        1024 decoder.layers.3.self_attn.out_proj.bias',\n",
      " '        1024 decoder.layers.3.self_attn_layer_norm.weight',\n",
      " '        1024 decoder.layers.3.self_attn_layer_norm.bias',\n",
      " '   3072 1024 decoder.layers.3.encoder_attn.in_proj_weight',\n",
      " '        3072 decoder.layers.3.encoder_attn.in_proj_bias',\n",
      " '   1024 1024 decoder.layers.3.encoder_attn.out_proj.weight',\n",
      " '        1024 decoder.layers.3.encoder_attn.out_proj.bias',\n",
      " '        1024 decoder.layers.3.encoder_attn_layer_norm.weight',\n",
      " '        1024 decoder.layers.3.encoder_attn_layer_norm.bias',\n",
      " '   4096 1024 decoder.layers.3.fc1.weight',\n",
      " '        4096 decoder.layers.3.fc1.bias',\n",
      " '   1024 4096 decoder.layers.3.fc2.weight',\n",
      " '        1024 decoder.layers.3.fc2.bias',\n",
      " '        1024 decoder.layers.3.final_layer_norm.weight',\n",
      " '        1024 decoder.layers.3.final_layer_norm.bias',\n",
      " '   3072 1024 decoder.layers.4.self_attn.in_proj_weight',\n",
      " '        3072 decoder.layers.4.self_attn.in_proj_bias',\n",
      " '   1024 1024 decoder.layers.4.self_attn.out_proj.weight',\n",
      " '        1024 decoder.layers.4.self_attn.out_proj.bias',\n",
      " '        1024 decoder.layers.4.self_attn_layer_norm.weight',\n",
      " '        1024 decoder.layers.4.self_attn_layer_norm.bias',\n",
      " '   3072 1024 decoder.layers.4.encoder_attn.in_proj_weight',\n",
      " '        3072 decoder.layers.4.encoder_attn.in_proj_bias',\n",
      " '   1024 1024 decoder.layers.4.encoder_attn.out_proj.weight',\n",
      " '        1024 decoder.layers.4.encoder_attn.out_proj.bias',\n",
      " '        1024 decoder.layers.4.encoder_attn_layer_norm.weight',\n",
      " '        1024 decoder.layers.4.encoder_attn_layer_norm.bias',\n",
      " '   4096 1024 decoder.layers.4.fc1.weight',\n",
      " '        4096 decoder.layers.4.fc1.bias',\n",
      " '   1024 4096 decoder.layers.4.fc2.weight',\n",
      " '        1024 decoder.layers.4.fc2.bias',\n",
      " '        1024 decoder.layers.4.final_layer_norm.weight',\n",
      " '        1024 decoder.layers.4.final_layer_norm.bias',\n",
      " '   3072 1024 decoder.layers.5.self_attn.in_proj_weight',\n",
      " '        3072 decoder.layers.5.self_attn.in_proj_bias',\n",
      " '   1024 1024 decoder.layers.5.self_attn.out_proj.weight',\n",
      " '        1024 decoder.layers.5.self_attn.out_proj.bias',\n",
      " '        1024 decoder.layers.5.self_attn_layer_norm.weight',\n",
      " '        1024 decoder.layers.5.self_attn_layer_norm.bias',\n",
      " '   3072 1024 decoder.layers.5.encoder_attn.in_proj_weight',\n",
      " '        3072 decoder.layers.5.encoder_attn.in_proj_bias',\n",
      " '   1024 1024 decoder.layers.5.encoder_attn.out_proj.weight',\n",
      " '        1024 decoder.layers.5.encoder_attn.out_proj.bias',\n",
      " '        1024 decoder.layers.5.encoder_attn_layer_norm.weight',\n",
      " '        1024 decoder.layers.5.encoder_attn_layer_norm.bias',\n",
      " '   4096 1024 decoder.layers.5.fc1.weight',\n",
      " '        4096 decoder.layers.5.fc1.bias',\n",
      " '   1024 4096 decoder.layers.5.fc2.weight',\n",
      " '        1024 decoder.layers.5.fc2.bias',\n",
      " '        1024 decoder.layers.5.final_layer_norm.weight',\n",
      " '        1024 decoder.layers.5.final_layer_norm.bias']\n"
     ]
    }
   ],
   "source": [
    "# dump the state_dict attrs and their shape\n",
    "pprint([f\"{' '.join(map(str, v.shape)):>12} {k}\"for k,v in model.items()])"
   ]
  },
  {
   "cell_type": "markdown",
   "metadata": {
    "run_control": {
     "marked": false
    }
   },
   "source": [
    "# state_dict parts\n",
    "\n",
    "Let's see what other parts are and their size"
   ]
  },
  {
   "cell_type": "code",
   "execution_count": 9,
   "metadata": {
    "run_control": {
     "marked": false
    }
   },
   "outputs": [
    {
     "data": {
      "text/plain": [
       "dict_keys(['args', 'model', 'optimizer_history', 'last_optimizer_state', 'extra_state'])"
      ]
     },
     "execution_count": 9,
     "metadata": {},
     "output_type": "execute_result"
    }
   ],
   "source": [
    "chkpt.keys()"
   ]
  },
  {
   "cell_type": "code",
   "execution_count": 10,
   "metadata": {
    "run_control": {
     "marked": false
    }
   },
   "outputs": [
    {
     "name": "stdout",
     "output_type": "stream",
     "text": [
      "      0MB args\n",
      "   1110MB model\n",
      "      0MB optimizer_history\n",
      "   2220MB last_optimizer_state\n",
      "      0MB extra_state\n"
     ]
    }
   ],
   "source": [
    "for k,v in chkpt.items():\n",
    "    path = f\"./{k}.bin\"\n",
    "    torch.save(v, path)\n",
    "    print(f\"{os.path.getsize(path) >> 20:>7}MB {k}\")"
   ]
  },
  {
   "cell_type": "markdown",
   "metadata": {
    "run_control": {
     "marked": false
    }
   },
   "source": [
    "2.2GB in optimizer state!!! ouch!"
   ]
  },
  {
   "cell_type": "code",
   "execution_count": null,
   "metadata": {},
   "outputs": [],
   "source": []
  },
  {
   "cell_type": "markdown",
   "metadata": {},
   "source": [
    "# Visualize converted model weights"
   ]
  },
  {
   "cell_type": "code",
   "execution_count": 11,
   "metadata": {},
   "outputs": [
    {
     "data": {
      "text/plain": [
       "'/code/huggingface/transformers-fair-wmt/data/wmt19-ru-en/pytorch_model.bin'"
      ]
     },
     "execution_count": 11,
     "metadata": {},
     "output_type": "execute_result"
    }
   ],
   "source": [
    "path = \"/code/huggingface/transformers-fair-wmt/data/wmt19-ru-en/\"\n",
    "#mname = 'transformer.wmt19.ru-en'\n",
    "chkpt1_path = path + \"pytorch_model.bin\"\n",
    "chkpt1_path\n",
    "cfg_path = path + \"config.json\"\n",
    "state_dict = torch.load(chkpt1_path, map_location=\"cpu\")\n",
    "#model = chkpt[\"model\"]"
   ]
  },
  {
   "cell_type": "code",
   "execution_count": 12,
   "metadata": {},
   "outputs": [
    {
     "name": "stdout",
     "output_type": "stream",
     "text": [
      "['  31232 1024 model.encoder.embed_tokens.weight',\n",
      " '   1024 1024 model.encoder.layers.0.self_attn.k_proj.weight',\n",
      " '        1024 model.encoder.layers.0.self_attn.k_proj.bias',\n",
      " '   1024 1024 model.encoder.layers.0.self_attn.v_proj.weight',\n",
      " '        1024 model.encoder.layers.0.self_attn.v_proj.bias',\n",
      " '   1024 1024 model.encoder.layers.0.self_attn.q_proj.weight',\n",
      " '        1024 model.encoder.layers.0.self_attn.q_proj.bias',\n",
      " '   1024 1024 model.encoder.layers.0.self_attn.out_proj.weight',\n",
      " '        1024 model.encoder.layers.0.self_attn.out_proj.bias',\n",
      " '        1024 model.encoder.layers.0.self_attn_layer_norm.weight',\n",
      " '        1024 model.encoder.layers.0.self_attn_layer_norm.bias',\n",
      " '   8192 1024 model.encoder.layers.0.fc1.weight',\n",
      " '        8192 model.encoder.layers.0.fc1.bias',\n",
      " '   1024 8192 model.encoder.layers.0.fc2.weight',\n",
      " '        1024 model.encoder.layers.0.fc2.bias',\n",
      " '        1024 model.encoder.layers.0.final_layer_norm.weight',\n",
      " '        1024 model.encoder.layers.0.final_layer_norm.bias',\n",
      " '   1024 1024 model.encoder.layers.1.self_attn.k_proj.weight',\n",
      " '        1024 model.encoder.layers.1.self_attn.k_proj.bias',\n",
      " '   1024 1024 model.encoder.layers.1.self_attn.v_proj.weight',\n",
      " '        1024 model.encoder.layers.1.self_attn.v_proj.bias',\n",
      " '   1024 1024 model.encoder.layers.1.self_attn.q_proj.weight',\n",
      " '        1024 model.encoder.layers.1.self_attn.q_proj.bias',\n",
      " '   1024 1024 model.encoder.layers.1.self_attn.out_proj.weight',\n",
      " '        1024 model.encoder.layers.1.self_attn.out_proj.bias',\n",
      " '        1024 model.encoder.layers.1.self_attn_layer_norm.weight',\n",
      " '        1024 model.encoder.layers.1.self_attn_layer_norm.bias',\n",
      " '   8192 1024 model.encoder.layers.1.fc1.weight',\n",
      " '        8192 model.encoder.layers.1.fc1.bias',\n",
      " '   1024 8192 model.encoder.layers.1.fc2.weight',\n",
      " '        1024 model.encoder.layers.1.fc2.bias',\n",
      " '        1024 model.encoder.layers.1.final_layer_norm.weight',\n",
      " '        1024 model.encoder.layers.1.final_layer_norm.bias',\n",
      " '   1024 1024 model.encoder.layers.2.self_attn.k_proj.weight',\n",
      " '        1024 model.encoder.layers.2.self_attn.k_proj.bias',\n",
      " '   1024 1024 model.encoder.layers.2.self_attn.v_proj.weight',\n",
      " '        1024 model.encoder.layers.2.self_attn.v_proj.bias',\n",
      " '   1024 1024 model.encoder.layers.2.self_attn.q_proj.weight',\n",
      " '        1024 model.encoder.layers.2.self_attn.q_proj.bias',\n",
      " '   1024 1024 model.encoder.layers.2.self_attn.out_proj.weight',\n",
      " '        1024 model.encoder.layers.2.self_attn.out_proj.bias',\n",
      " '        1024 model.encoder.layers.2.self_attn_layer_norm.weight',\n",
      " '        1024 model.encoder.layers.2.self_attn_layer_norm.bias',\n",
      " '   8192 1024 model.encoder.layers.2.fc1.weight',\n",
      " '        8192 model.encoder.layers.2.fc1.bias',\n",
      " '   1024 8192 model.encoder.layers.2.fc2.weight',\n",
      " '        1024 model.encoder.layers.2.fc2.bias',\n",
      " '        1024 model.encoder.layers.2.final_layer_norm.weight',\n",
      " '        1024 model.encoder.layers.2.final_layer_norm.bias',\n",
      " '   1024 1024 model.encoder.layers.3.self_attn.k_proj.weight',\n",
      " '        1024 model.encoder.layers.3.self_attn.k_proj.bias',\n",
      " '   1024 1024 model.encoder.layers.3.self_attn.v_proj.weight',\n",
      " '        1024 model.encoder.layers.3.self_attn.v_proj.bias',\n",
      " '   1024 1024 model.encoder.layers.3.self_attn.q_proj.weight',\n",
      " '        1024 model.encoder.layers.3.self_attn.q_proj.bias',\n",
      " '   1024 1024 model.encoder.layers.3.self_attn.out_proj.weight',\n",
      " '        1024 model.encoder.layers.3.self_attn.out_proj.bias',\n",
      " '        1024 model.encoder.layers.3.self_attn_layer_norm.weight',\n",
      " '        1024 model.encoder.layers.3.self_attn_layer_norm.bias',\n",
      " '   8192 1024 model.encoder.layers.3.fc1.weight',\n",
      " '        8192 model.encoder.layers.3.fc1.bias',\n",
      " '   1024 8192 model.encoder.layers.3.fc2.weight',\n",
      " '        1024 model.encoder.layers.3.fc2.bias',\n",
      " '        1024 model.encoder.layers.3.final_layer_norm.weight',\n",
      " '        1024 model.encoder.layers.3.final_layer_norm.bias',\n",
      " '   1024 1024 model.encoder.layers.4.self_attn.k_proj.weight',\n",
      " '        1024 model.encoder.layers.4.self_attn.k_proj.bias',\n",
      " '   1024 1024 model.encoder.layers.4.self_attn.v_proj.weight',\n",
      " '        1024 model.encoder.layers.4.self_attn.v_proj.bias',\n",
      " '   1024 1024 model.encoder.layers.4.self_attn.q_proj.weight',\n",
      " '        1024 model.encoder.layers.4.self_attn.q_proj.bias',\n",
      " '   1024 1024 model.encoder.layers.4.self_attn.out_proj.weight',\n",
      " '        1024 model.encoder.layers.4.self_attn.out_proj.bias',\n",
      " '        1024 model.encoder.layers.4.self_attn_layer_norm.weight',\n",
      " '        1024 model.encoder.layers.4.self_attn_layer_norm.bias',\n",
      " '   8192 1024 model.encoder.layers.4.fc1.weight',\n",
      " '        8192 model.encoder.layers.4.fc1.bias',\n",
      " '   1024 8192 model.encoder.layers.4.fc2.weight',\n",
      " '        1024 model.encoder.layers.4.fc2.bias',\n",
      " '        1024 model.encoder.layers.4.final_layer_norm.weight',\n",
      " '        1024 model.encoder.layers.4.final_layer_norm.bias',\n",
      " '   1024 1024 model.encoder.layers.5.self_attn.k_proj.weight',\n",
      " '        1024 model.encoder.layers.5.self_attn.k_proj.bias',\n",
      " '   1024 1024 model.encoder.layers.5.self_attn.v_proj.weight',\n",
      " '        1024 model.encoder.layers.5.self_attn.v_proj.bias',\n",
      " '   1024 1024 model.encoder.layers.5.self_attn.q_proj.weight',\n",
      " '        1024 model.encoder.layers.5.self_attn.q_proj.bias',\n",
      " '   1024 1024 model.encoder.layers.5.self_attn.out_proj.weight',\n",
      " '        1024 model.encoder.layers.5.self_attn.out_proj.bias',\n",
      " '        1024 model.encoder.layers.5.self_attn_layer_norm.weight',\n",
      " '        1024 model.encoder.layers.5.self_attn_layer_norm.bias',\n",
      " '   8192 1024 model.encoder.layers.5.fc1.weight',\n",
      " '        8192 model.encoder.layers.5.fc1.bias',\n",
      " '   1024 8192 model.encoder.layers.5.fc2.weight',\n",
      " '        1024 model.encoder.layers.5.fc2.bias',\n",
      " '        1024 model.encoder.layers.5.final_layer_norm.weight',\n",
      " '        1024 model.encoder.layers.5.final_layer_norm.bias',\n",
      " '  31640 1024 model.decoder.embed_tokens.weight',\n",
      " '   1024 1024 model.decoder.layers.0.self_attn.k_proj.weight',\n",
      " '        1024 model.decoder.layers.0.self_attn.k_proj.bias',\n",
      " '   1024 1024 model.decoder.layers.0.self_attn.v_proj.weight',\n",
      " '        1024 model.decoder.layers.0.self_attn.v_proj.bias',\n",
      " '   1024 1024 model.decoder.layers.0.self_attn.q_proj.weight',\n",
      " '        1024 model.decoder.layers.0.self_attn.q_proj.bias',\n",
      " '   1024 1024 model.decoder.layers.0.self_attn.out_proj.weight',\n",
      " '        1024 model.decoder.layers.0.self_attn.out_proj.bias',\n",
      " '        1024 model.decoder.layers.0.self_attn_layer_norm.weight',\n",
      " '        1024 model.decoder.layers.0.self_attn_layer_norm.bias',\n",
      " '   1024 1024 model.decoder.layers.0.encoder_attn.k_proj.weight',\n",
      " '        1024 model.decoder.layers.0.encoder_attn.k_proj.bias',\n",
      " '   1024 1024 model.decoder.layers.0.encoder_attn.v_proj.weight',\n",
      " '        1024 model.decoder.layers.0.encoder_attn.v_proj.bias',\n",
      " '   1024 1024 model.decoder.layers.0.encoder_attn.q_proj.weight',\n",
      " '        1024 model.decoder.layers.0.encoder_attn.q_proj.bias',\n",
      " '   1024 1024 model.decoder.layers.0.encoder_attn.out_proj.weight',\n",
      " '        1024 model.decoder.layers.0.encoder_attn.out_proj.bias',\n",
      " '        1024 model.decoder.layers.0.encoder_attn_layer_norm.weight',\n",
      " '        1024 model.decoder.layers.0.encoder_attn_layer_norm.bias',\n",
      " '   4096 1024 model.decoder.layers.0.fc1.weight',\n",
      " '        4096 model.decoder.layers.0.fc1.bias',\n",
      " '   1024 4096 model.decoder.layers.0.fc2.weight',\n",
      " '        1024 model.decoder.layers.0.fc2.bias',\n",
      " '        1024 model.decoder.layers.0.final_layer_norm.weight',\n",
      " '        1024 model.decoder.layers.0.final_layer_norm.bias',\n",
      " '   1024 1024 model.decoder.layers.1.self_attn.k_proj.weight',\n",
      " '        1024 model.decoder.layers.1.self_attn.k_proj.bias',\n",
      " '   1024 1024 model.decoder.layers.1.self_attn.v_proj.weight',\n",
      " '        1024 model.decoder.layers.1.self_attn.v_proj.bias',\n",
      " '   1024 1024 model.decoder.layers.1.self_attn.q_proj.weight',\n",
      " '        1024 model.decoder.layers.1.self_attn.q_proj.bias',\n",
      " '   1024 1024 model.decoder.layers.1.self_attn.out_proj.weight',\n",
      " '        1024 model.decoder.layers.1.self_attn.out_proj.bias',\n",
      " '        1024 model.decoder.layers.1.self_attn_layer_norm.weight',\n",
      " '        1024 model.decoder.layers.1.self_attn_layer_norm.bias',\n",
      " '   1024 1024 model.decoder.layers.1.encoder_attn.k_proj.weight',\n",
      " '        1024 model.decoder.layers.1.encoder_attn.k_proj.bias',\n",
      " '   1024 1024 model.decoder.layers.1.encoder_attn.v_proj.weight',\n",
      " '        1024 model.decoder.layers.1.encoder_attn.v_proj.bias',\n",
      " '   1024 1024 model.decoder.layers.1.encoder_attn.q_proj.weight',\n",
      " '        1024 model.decoder.layers.1.encoder_attn.q_proj.bias',\n",
      " '   1024 1024 model.decoder.layers.1.encoder_attn.out_proj.weight',\n",
      " '        1024 model.decoder.layers.1.encoder_attn.out_proj.bias',\n",
      " '        1024 model.decoder.layers.1.encoder_attn_layer_norm.weight',\n",
      " '        1024 model.decoder.layers.1.encoder_attn_layer_norm.bias',\n",
      " '   4096 1024 model.decoder.layers.1.fc1.weight',\n",
      " '        4096 model.decoder.layers.1.fc1.bias',\n",
      " '   1024 4096 model.decoder.layers.1.fc2.weight',\n",
      " '        1024 model.decoder.layers.1.fc2.bias',\n",
      " '        1024 model.decoder.layers.1.final_layer_norm.weight',\n",
      " '        1024 model.decoder.layers.1.final_layer_norm.bias',\n",
      " '   1024 1024 model.decoder.layers.2.self_attn.k_proj.weight',\n",
      " '        1024 model.decoder.layers.2.self_attn.k_proj.bias',\n",
      " '   1024 1024 model.decoder.layers.2.self_attn.v_proj.weight',\n",
      " '        1024 model.decoder.layers.2.self_attn.v_proj.bias',\n",
      " '   1024 1024 model.decoder.layers.2.self_attn.q_proj.weight',\n",
      " '        1024 model.decoder.layers.2.self_attn.q_proj.bias',\n",
      " '   1024 1024 model.decoder.layers.2.self_attn.out_proj.weight',\n",
      " '        1024 model.decoder.layers.2.self_attn.out_proj.bias',\n",
      " '        1024 model.decoder.layers.2.self_attn_layer_norm.weight',\n",
      " '        1024 model.decoder.layers.2.self_attn_layer_norm.bias',\n",
      " '   1024 1024 model.decoder.layers.2.encoder_attn.k_proj.weight',\n",
      " '        1024 model.decoder.layers.2.encoder_attn.k_proj.bias',\n",
      " '   1024 1024 model.decoder.layers.2.encoder_attn.v_proj.weight',\n",
      " '        1024 model.decoder.layers.2.encoder_attn.v_proj.bias',\n",
      " '   1024 1024 model.decoder.layers.2.encoder_attn.q_proj.weight',\n",
      " '        1024 model.decoder.layers.2.encoder_attn.q_proj.bias',\n",
      " '   1024 1024 model.decoder.layers.2.encoder_attn.out_proj.weight',\n",
      " '        1024 model.decoder.layers.2.encoder_attn.out_proj.bias',\n",
      " '        1024 model.decoder.layers.2.encoder_attn_layer_norm.weight',\n",
      " '        1024 model.decoder.layers.2.encoder_attn_layer_norm.bias',\n",
      " '   4096 1024 model.decoder.layers.2.fc1.weight',\n",
      " '        4096 model.decoder.layers.2.fc1.bias',\n",
      " '   1024 4096 model.decoder.layers.2.fc2.weight',\n",
      " '        1024 model.decoder.layers.2.fc2.bias',\n",
      " '        1024 model.decoder.layers.2.final_layer_norm.weight',\n",
      " '        1024 model.decoder.layers.2.final_layer_norm.bias',\n",
      " '   1024 1024 model.decoder.layers.3.self_attn.k_proj.weight',\n",
      " '        1024 model.decoder.layers.3.self_attn.k_proj.bias',\n",
      " '   1024 1024 model.decoder.layers.3.self_attn.v_proj.weight',\n",
      " '        1024 model.decoder.layers.3.self_attn.v_proj.bias',\n",
      " '   1024 1024 model.decoder.layers.3.self_attn.q_proj.weight',\n",
      " '        1024 model.decoder.layers.3.self_attn.q_proj.bias',\n",
      " '   1024 1024 model.decoder.layers.3.self_attn.out_proj.weight',\n",
      " '        1024 model.decoder.layers.3.self_attn.out_proj.bias',\n",
      " '        1024 model.decoder.layers.3.self_attn_layer_norm.weight',\n",
      " '        1024 model.decoder.layers.3.self_attn_layer_norm.bias',\n",
      " '   1024 1024 model.decoder.layers.3.encoder_attn.k_proj.weight',\n",
      " '        1024 model.decoder.layers.3.encoder_attn.k_proj.bias',\n",
      " '   1024 1024 model.decoder.layers.3.encoder_attn.v_proj.weight',\n",
      " '        1024 model.decoder.layers.3.encoder_attn.v_proj.bias',\n",
      " '   1024 1024 model.decoder.layers.3.encoder_attn.q_proj.weight',\n",
      " '        1024 model.decoder.layers.3.encoder_attn.q_proj.bias',\n",
      " '   1024 1024 model.decoder.layers.3.encoder_attn.out_proj.weight',\n",
      " '        1024 model.decoder.layers.3.encoder_attn.out_proj.bias',\n",
      " '        1024 model.decoder.layers.3.encoder_attn_layer_norm.weight',\n",
      " '        1024 model.decoder.layers.3.encoder_attn_layer_norm.bias',\n",
      " '   4096 1024 model.decoder.layers.3.fc1.weight',\n",
      " '        4096 model.decoder.layers.3.fc1.bias',\n",
      " '   1024 4096 model.decoder.layers.3.fc2.weight',\n",
      " '        1024 model.decoder.layers.3.fc2.bias',\n",
      " '        1024 model.decoder.layers.3.final_layer_norm.weight',\n",
      " '        1024 model.decoder.layers.3.final_layer_norm.bias',\n",
      " '   1024 1024 model.decoder.layers.4.self_attn.k_proj.weight',\n",
      " '        1024 model.decoder.layers.4.self_attn.k_proj.bias',\n",
      " '   1024 1024 model.decoder.layers.4.self_attn.v_proj.weight',\n",
      " '        1024 model.decoder.layers.4.self_attn.v_proj.bias',\n",
      " '   1024 1024 model.decoder.layers.4.self_attn.q_proj.weight',\n",
      " '        1024 model.decoder.layers.4.self_attn.q_proj.bias',\n",
      " '   1024 1024 model.decoder.layers.4.self_attn.out_proj.weight',\n",
      " '        1024 model.decoder.layers.4.self_attn.out_proj.bias',\n",
      " '        1024 model.decoder.layers.4.self_attn_layer_norm.weight',\n",
      " '        1024 model.decoder.layers.4.self_attn_layer_norm.bias',\n",
      " '   1024 1024 model.decoder.layers.4.encoder_attn.k_proj.weight',\n",
      " '        1024 model.decoder.layers.4.encoder_attn.k_proj.bias',\n",
      " '   1024 1024 model.decoder.layers.4.encoder_attn.v_proj.weight',\n",
      " '        1024 model.decoder.layers.4.encoder_attn.v_proj.bias',\n",
      " '   1024 1024 model.decoder.layers.4.encoder_attn.q_proj.weight',\n",
      " '        1024 model.decoder.layers.4.encoder_attn.q_proj.bias',\n",
      " '   1024 1024 model.decoder.layers.4.encoder_attn.out_proj.weight',\n",
      " '        1024 model.decoder.layers.4.encoder_attn.out_proj.bias',\n",
      " '        1024 model.decoder.layers.4.encoder_attn_layer_norm.weight',\n",
      " '        1024 model.decoder.layers.4.encoder_attn_layer_norm.bias',\n",
      " '   4096 1024 model.decoder.layers.4.fc1.weight',\n",
      " '        4096 model.decoder.layers.4.fc1.bias',\n",
      " '   1024 4096 model.decoder.layers.4.fc2.weight',\n",
      " '        1024 model.decoder.layers.4.fc2.bias',\n",
      " '        1024 model.decoder.layers.4.final_layer_norm.weight',\n",
      " '        1024 model.decoder.layers.4.final_layer_norm.bias',\n",
      " '   1024 1024 model.decoder.layers.5.self_attn.k_proj.weight',\n",
      " '        1024 model.decoder.layers.5.self_attn.k_proj.bias',\n",
      " '   1024 1024 model.decoder.layers.5.self_attn.v_proj.weight',\n",
      " '        1024 model.decoder.layers.5.self_attn.v_proj.bias',\n",
      " '   1024 1024 model.decoder.layers.5.self_attn.q_proj.weight',\n",
      " '        1024 model.decoder.layers.5.self_attn.q_proj.bias',\n",
      " '   1024 1024 model.decoder.layers.5.self_attn.out_proj.weight',\n",
      " '        1024 model.decoder.layers.5.self_attn.out_proj.bias',\n",
      " '        1024 model.decoder.layers.5.self_attn_layer_norm.weight',\n",
      " '        1024 model.decoder.layers.5.self_attn_layer_norm.bias',\n",
      " '   1024 1024 model.decoder.layers.5.encoder_attn.k_proj.weight',\n",
      " '        1024 model.decoder.layers.5.encoder_attn.k_proj.bias',\n",
      " '   1024 1024 model.decoder.layers.5.encoder_attn.v_proj.weight',\n",
      " '        1024 model.decoder.layers.5.encoder_attn.v_proj.bias',\n",
      " '   1024 1024 model.decoder.layers.5.encoder_attn.q_proj.weight',\n",
      " '        1024 model.decoder.layers.5.encoder_attn.q_proj.bias',\n",
      " '   1024 1024 model.decoder.layers.5.encoder_attn.out_proj.weight',\n",
      " '        1024 model.decoder.layers.5.encoder_attn.out_proj.bias',\n",
      " '        1024 model.decoder.layers.5.encoder_attn_layer_norm.weight',\n",
      " '        1024 model.decoder.layers.5.encoder_attn_layer_norm.bias',\n",
      " '   4096 1024 model.decoder.layers.5.fc1.weight',\n",
      " '        4096 model.decoder.layers.5.fc1.bias',\n",
      " '   1024 4096 model.decoder.layers.5.fc2.weight',\n",
      " '        1024 model.decoder.layers.5.fc2.bias',\n",
      " '        1024 model.decoder.layers.5.final_layer_norm.weight',\n",
      " '        1024 model.decoder.layers.5.final_layer_norm.bias',\n",
      " '  31640 1024 model.decoder.output_projection.weight']\n"
     ]
    }
   ],
   "source": [
    "# dump the state_dict attrs and their shape\n",
    "pprint([f\"{' '.join(map(str, v.shape)):>12} {k}\"for k,v in state_dict.items()])"
   ]
  }
 ],
 "metadata": {
  "hide_input": false,
  "kernelspec": {
   "display_name": "Python 3",
   "language": "python",
   "name": "python3"
  },
  "language_info": {
   "codemirror_mode": {
    "name": "ipython",
    "version": 3
   },
   "file_extension": ".py",
   "mimetype": "text/x-python",
   "name": "python",
   "nbconvert_exporter": "python",
   "pygments_lexer": "ipython3",
   "version": "3.8.5"
  },
  "toc": {
   "base_numbering": 1,
   "nav_menu": {},
   "number_sections": true,
   "sideBar": true,
   "skip_h1_title": false,
   "title_cell": "Table of Contents",
   "title_sidebar": "Contents",
   "toc_cell": false,
   "toc_position": {},
   "toc_section_display": true,
   "toc_window_display": true
  }
 },
 "nbformat": 4,
 "nbformat_minor": 4
}
